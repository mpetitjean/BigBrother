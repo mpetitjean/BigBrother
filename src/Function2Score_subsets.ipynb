{
 "cells": [
  {
   "cell_type": "code",
   "execution_count": 1,
   "metadata": {},
   "outputs": [],
   "source": [
    "import numpy as np\n",
    "import matplotlib.pyplot as plt\n",
    "import pandas as pd"
   ]
  },
  {
   "cell_type": "code",
   "execution_count": 2,
   "metadata": {},
   "outputs": [],
   "source": [
    "dbb = pd.read_csv(\"time_fixed_DB.csv\", encoding=\"UTF-8\",sep=\";\")\n",
    "db = dbb.loc[dbb[\"userId\"] < 8e3].copy()\n",
    "dff= pd.read_csv(\"time_fixed_DF.csv\", encoding=\"UTF-8\",sep=\";\")"
   ]
  },
  {
   "cell_type": "code",
   "execution_count": 1,
   "metadata": {},
   "outputs": [
    {
     "ename": "NameError",
     "evalue": "name 'db' is not defined",
     "output_type": "error",
     "traceback": [
      "\u001b[1;31m---------------------------------------------------------------------------\u001b[0m",
      "\u001b[1;31mNameError\u001b[0m                                 Traceback (most recent call last)",
      "\u001b[1;32m<ipython-input-1-d61429d9ff77>\u001b[0m in \u001b[0;36m<module>\u001b[1;34m()\u001b[0m\n\u001b[0;32m      1\u001b[0m \u001b[0mmatchedUsers\u001b[0m \u001b[1;33m=\u001b[0m \u001b[1;33m{\u001b[0m\u001b[1;33m}\u001b[0m  \u001b[1;31m# empty dictionary to be filled by the matched users (key:value) = (movieLensID,netflixID : eccentricity)\u001b[0m\u001b[1;33m\u001b[0m\u001b[0m\n\u001b[1;32m----> 2\u001b[1;33m \u001b[0mdb\u001b[0m\u001b[1;33m.\u001b[0m\u001b[0mset_index\u001b[0m\u001b[1;33m(\u001b[0m\u001b[1;33m[\u001b[0m\u001b[1;34m\"movieId\"\u001b[0m\u001b[1;33m]\u001b[0m\u001b[1;33m,\u001b[0m\u001b[0minplace\u001b[0m\u001b[1;33m=\u001b[0m\u001b[1;32mTrue\u001b[0m\u001b[1;33m)\u001b[0m  \u001b[1;31m# rename the column\u001b[0m\u001b[1;33m\u001b[0m\u001b[0m\n\u001b[0m\u001b[0;32m      3\u001b[0m \u001b[0mweight\u001b[0m \u001b[1;33m=\u001b[0m \u001b[1;36m1\u001b[0m\u001b[1;33m/\u001b[0m\u001b[0mnp\u001b[0m\u001b[1;33m.\u001b[0m\u001b[0mlog10\u001b[0m\u001b[1;33m(\u001b[0m\u001b[0mdff\u001b[0m\u001b[1;33m.\u001b[0m\u001b[0mloc\u001b[0m\u001b[1;33m[\u001b[0m\u001b[1;33m:\u001b[0m\u001b[1;33m,\u001b[0m\u001b[1;34m\"movieId\"\u001b[0m\u001b[1;33m]\u001b[0m\u001b[1;33m.\u001b[0m\u001b[0mvalue_counts\u001b[0m\u001b[1;33m(\u001b[0m\u001b[1;33m)\u001b[0m\u001b[1;33m)\u001b[0m  \u001b[1;31m# apply the weights beforehand to aviod log(1) and computation efficiency\u001b[0m\u001b[1;33m\u001b[0m\u001b[0m\n\u001b[0;32m      4\u001b[0m \u001b[1;33m\u001b[0m\u001b[0m\n\u001b[0;32m      5\u001b[0m \u001b[1;32mfor\u001b[0m \u001b[0mi\u001b[0m \u001b[1;32min\u001b[0m \u001b[0mrange\u001b[0m\u001b[1;33m(\u001b[0m\u001b[1;36m1\u001b[0m\u001b[1;33m,\u001b[0m\u001b[1;36m21\u001b[0m\u001b[1;33m)\u001b[0m\u001b[1;33m:\u001b[0m \u001b[1;31m# for loop in order to grab subsets from netflix data\u001b[0m\u001b[1;33m\u001b[0m\u001b[0m\n",
      "\u001b[1;31mNameError\u001b[0m: name 'db' is not defined"
     ]
    }
   ],
   "source": [
    "matchedUsers = {}  # empty dictionary to be filled by the matched users (key:value) = (movieLensID,netflixID : eccentricity)\n",
    "db.set_index([\"movieId\"],inplace=True)  # rename the column\n",
    "weight = 1/np.log10(dff.loc[:,\"movieId\"].value_counts())  # apply the weights beforehand to aviod log(1) and computation efficiency\n",
    "\n",
    "for i in range(1,21): # for loop in order to grab subsets from netflix data\n",
    "    print(i)\n",
    "    upperBound = 1000*i # upper bound for netflix subset\n",
    "    lowerBound = upperBound-1000 # lower bound for netflix subset\n",
    "    df = dff.loc[(dff[\"userId\"] > lowerBound) & (dff[\"userId\"] < upperBound) ].copy() # grab the subset\n",
    "\n",
    "    db.rename(columns={\"userId\":\"uM\"},inplace=1) # renaming the columns\n",
    "    df.rename(columns={\"userId\":\"uF\"},inplace=1)\n",
    "    df.set_index([\"movieId\"],inplace=True)\n",
    "\n",
    "    com_movies = df.index.intersection(db.index).unique() # ordering and finding the intersections between the two data sets\n",
    "    db = db.loc[com_movies,:] # corresponding common movies from movielens\n",
    "    df = df.loc[com_movies,:] # corresponding common movies from netflix\n",
    "    res = df.subtract(db,fill_value=0).astype(np.int64)\n",
    "    res = np.abs(res)\n",
    "    result = weight.loc[com_movies]*(np.exp(-res.loc[:,'rating']/1.5) + np.exp(-res.loc[:,'timestamp']/30)) # rating algorithm\n",
    "\n",
    "    res.loc[:,\"score\"] = result # renaming things\n",
    "    res.drop([\"rating\", \"timestamp\"],axis=1,inplace=True)\n",
    "    res.set_index(['uF','uM'],inplace=True)\n",
    "\n",
    "    R = res.groupby(level=[0,1]).sum()\n",
    "\n",
    "    values = R.index.levels[0]\n",
    "\n",
    "    for elem in values: # calculate the eccentricity between the two highest scores\n",
    "        tempUser = R.loc[elem]\n",
    "        tempScore = np.array(tempUser[\"score\"])\n",
    "        stdev = np.std(tempScore)\n",
    "        best1 = np.max(tempScore)\n",
    "        idx1 = np.argmax(tempScore)\n",
    "        tempScore = np.delete(tempScore, idx1)\n",
    "        best2 = np.max(tempScore)\n",
    "        ecc = (best1-best2)/stdev\n",
    "        if (ecc >= 1.5): # if the eccentricity is higher than the given threshold (1.5 in this case) that is match. Be happy!\n",
    "            matchedUsers[elem,idx1] = ecc\n"
   ]
  },
  {
   "cell_type": "code",
   "execution_count": 20,
   "metadata": {},
   "outputs": [],
   "source": [
    "import pickle\n",
    "with open('usersFound.pkl','wb') as f: # save the data as pickle format\n",
    "    pickle.dump(matchedUsers,f)"
   ]
  }
 ],
 "metadata": {
  "kernelspec": {
   "display_name": "Python 3",
   "language": "python",
   "name": "python3"
  },
  "language_info": {
   "codemirror_mode": {
    "name": "ipython",
    "version": 3
   },
   "file_extension": ".py",
   "mimetype": "text/x-python",
   "name": "python",
   "nbconvert_exporter": "python",
   "pygments_lexer": "ipython3",
   "version": "3.6.4"
  }
 },
 "nbformat": 4,
 "nbformat_minor": 2
}
