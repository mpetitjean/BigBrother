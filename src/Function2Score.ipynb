{
 "cells": [
  {
   "cell_type": "code",
   "execution_count": 1,
   "metadata": {},
   "outputs": [],
   "source": [
    "#from collections import defaultdict\n",
    "#import array\n",
    "#import csv\n",
    "import numpy as np\n",
    "#from scipy.sparse import csr_matrix\n",
    "import matplotlib.pyplot as plt\n",
    "#import itertools\n",
    "import pandas as pd"
   ]
  },
  {
   "cell_type": "code",
   "execution_count": 2,
   "metadata": {},
   "outputs": [],
   "source": [
    "dbb = pd.read_csv(\"time_fixed_DB.csv\", encoding=\"UTF-8\",sep=\";\")\n",
    "dff= pd.read_csv(\"time_fixed_DF.csv\", encoding=\"UTF-8\",sep=\";\")"
   ]
  },
  {
   "cell_type": "code",
   "execution_count": 3,
   "metadata": {},
   "outputs": [],
   "source": [
    "db = dbb\n",
    "df = dff.loc[(dff[\"userId\"] > 100) & (dff[\"userId\"] < 200)]\n"
   ]
  },
  {
   "cell_type": "code",
   "execution_count": 4,
   "metadata": {},
   "outputs": [],
   "source": [
    "# print(df.shape)\n",
    "# print(db.shape)"
   ]
  },
  {
   "cell_type": "code",
   "execution_count": 5,
   "metadata": {},
   "outputs": [],
   "source": [
    "# R = {}\n",
    "R_data = []\n",
    "\n",
    "weight = 1/np.log10(dff.loc[:,\"movieId\"].value_counts())\n",
    "\n",
    "#db = dbb.loc[dbb.loc[:,\"userId\"] < 100]\n",
    "for NF_user in df.loc[:,\"userId\"].unique():\n",
    "    tmp1 = df.loc[df.loc[:,\"userId\"] == NF_user].set_index([\"movieId\"])\n",
    "#     D = {}\n",
    "    for ML_user in db.loc[:,\"userId\"].unique():\n",
    "        tmp2 = db.loc[db.loc[:,\"userId\"] == ML_user].set_index([\"movieId\"])\n",
    "        #com_movieId = pd.Series(list(set(tmp1.loc[:,\"movieId\"]).intersection(set(tmp2.loc[:,\"movieId\"]))))\n",
    "        com_movieId = tmp1.index.intersection(tmp2.index)\n",
    "        R_data.append({'uNF' : NF_user, 'uML': ML_user, 'score':sum(weight.loc[com_movieId] *\\\n",
    "        (np.exp(-np.abs(tmp1.loc[com_movieId, \"rating\"] - tmp2.loc[com_movieId, \"rating\"])/1.5) + \\\n",
    "        np.exp(-np.abs(tmp1.loc[com_movieId, \"timestamp\"] - tmp2.loc[com_movieId, \"timestamp\"])/30)))})\n",
    "R=pd.DataFrame(R_data)       "
   ]
  },
  {
   "cell_type": "code",
   "execution_count": 12,
   "metadata": {},
   "outputs": [
    {
     "name": "stdout",
     "output_type": "stream",
     "text": [
      "User ID is 199\n",
      "No match :( 0.7317303312406386\n",
      "\n",
      "\n",
      "User ID is 116\n",
      "No match :( 0.6481944155590866\n",
      "\n",
      "\n",
      "User ID is 168\n",
      "No match :( 0.0641164661646585\n",
      "\n",
      "\n",
      "User ID is 183\n",
      "No match :( 0.13753644463026027\n",
      "\n",
      "\n",
      "User ID is 188\n",
      "Match with an eccentricity of 2.100440280524868\n",
      "\n",
      "\n",
      "User ID is 134\n",
      "Match with an eccentricity of 2.765501109039099\n",
      "\n",
      "\n",
      "User ID is 195\n",
      "No match :( 0.2286262809434065\n",
      "\n",
      "\n"
     ]
    },
    {
     "data": {
      "image/png": "[encoded data removed]",
      "text/plain": [
       "<matplotlib.figure.Figure at 0x2440080c198>"
      ]
     },
     "metadata": {},
     "output_type": "display_data"
    },
    {
     "name": "stdout",
     "output_type": "stream",
     "text": [
      "User ID is 164\n",
      "Match with an eccentricity of 3.801854884084289\n",
      "\n",
      "\n",
      "User ID is 131\n",
      "Match with an eccentricity of 1.7878314389757128\n",
      "\n",
      "\n",
      "User ID is 169\n",
      "No match :( 0.6133276336162781\n",
      "\n",
      "\n",
      "User ID is 178\n",
      "No match :( 0.6545884257049602\n",
      "\n",
      "\n",
      "User ID is 192\n",
      "No match :( 1.3331898950171968\n",
      "\n",
      "\n",
      "User ID is 126\n",
      "Match with an eccentricity of 2.2249115947184053\n",
      "\n",
      "\n",
      "User ID is 158\n",
      "No match :( 0.100849082517319\n",
      "\n",
      "\n",
      "User ID is 177\n",
      "No match :( 0.4188998102550965\n",
      "\n",
      "\n",
      "User ID is 142\n",
      "No match :( 1.416609127292679\n",
      "\n",
      "\n",
      "User ID is 149\n",
      "No match :( 0.46759233227644553\n",
      "\n",
      "\n",
      "User ID is 130\n",
      "Match with an eccentricity of 2.1299398550931716\n",
      "\n",
      "\n",
      "User ID is 189\n",
      "No match :( 0.22362749111091432\n",
      "\n",
      "\n",
      "User ID is 133\n",
      "No match :( 0.07256220706073227\n",
      "\n",
      "\n"
     ]
    }
   ],
   "source": [
    "values = R[\"uNF\"].unique()\n",
    "# print(R.head)\n",
    "#x = range(1,101)\n",
    "\n",
    "#print(len(R))\n",
    "#weight = df[\"movieId\"].value_counts()\n",
    "#print(com_movieId)\n",
    "#tmp1 = tmp1.set_index(['movieId'])\n",
    "#print(tmp1  tmp1.loc[tmp1.index.isin(com_movieId)])\n",
    "#print(tmp1.loc[tmp1[\"movieId\"].isin(com_movieId)])\n",
    "#print(tmp2.loc[tmp2[\"movieId\"].isin(com_movieId)])\n",
    "#print(tmp1.loc[tmp1[\"movieId\"].isin(com_movieId),\"rating\"])\n",
    "#print(tmp1.loc[tmp1[\"movieId\"].isin(com_movieId),\"rating\"] + tmp2.loc[tmp2[\"movieId\"].isin(com_movieId),\"rating\"])\n",
    "#R[59,1] 25 8 97\n",
    "for elem in values:\n",
    "    tempUser = R[R[\"uNF\"]==elem]\n",
    "    if elem == 164:\n",
    "        plt.scatter(range(len(tempUser)),tempUser[\"score\"])\n",
    "        plt.show()\n",
    "    tempScore = np.array(tempUser[\"score\"])\n",
    "    stdev = np.std(tempScore)\n",
    "    best1 = np.max(tempScore)\n",
    "    idx1 = np.argmax(tempScore)\n",
    "    tempScore = np.delete(tempScore, idx1)\n",
    "    # print(tempUser)\n",
    "    best2 = np.max(tempScore)\n",
    "    ecc = (best1-best2)/stdev\n",
    "    print(\"User ID is\", elem)\n",
    "    if (ecc >= 1.5):\n",
    "        print(\"Match with an eccentricity of\", ecc)\n",
    "    else:\n",
    "        print(\"No match :(\", ecc)\n",
    "    print(\"\\n\")\n",
    "    \n"
   ]
  },
  {
   "cell_type": "raw",
   "metadata": {},
   "source": [
    "R.head()"
   ]
  },
  {
   "cell_type": "code",
   "execution_count": null,
   "metadata": {},
   "outputs": [],
   "source": []
  },
  {
   "cell_type": "code",
   "execution_count": null,
   "metadata": {},
   "outputs": [],
   "source": [
    "# x = [5,1,7,0,3,4,5,3,2,6,7,3,6]\n",
    "# get_indexes = lambda x, xs: [i for (y, i) in zip(xs, range(len(xs))) if x == y]\n",
    "# print(get_indexes(7,x))\n",
    "# stupidMatrix = [ [0,1,2], [3,3,0], [0,0,1]];\n",
    "# stupidMatrix2 = [ [0,2,0], [1,1,1], [1,0,5]];\n",
    "# print(stupidMatrix)\n",
    "# print(stupidMatrix2)\n"
   ]
  },
  {
   "cell_type": "code",
   "execution_count": null,
   "metadata": {},
   "outputs": [],
   "source": [
    "# get_indexes = lambda x, xs: [i for (y, i) in zip(xs, range(len(xs))) if x == y]\n",
    "\n",
    "# p0=1.5\n",
    "# d0=30 # empirical values\n",
    "# auxData = np.array(stupidMatrix) #auxData will be loaded\n",
    "# rData = np.array(stupidMatrix2) #rData will be loaded\n",
    "# rMax=3 # load a number here from rData\n",
    "# auxMax=3 # load a number here from auxData\n",
    "\n",
    "# for r in range(rMax): # user from netflix\n",
    "#     for aux in range(auxMax): # user from movieLens\n",
    "#         ## Method1\n",
    "# #         temp_r_vector = rData[r,:] > 0\n",
    "# #         temp_aux_vector = auxData[aux,:] > 0\n",
    "# #         temp_shared = np.logical_and(temp_aux_vector,temp_r_vector) \n",
    "# #         print(temp_shared)\n",
    "# #         indOf1 = get_indexes(1,temp_shared)\n",
    "# #         print(indOf1)\n",
    "        \n",
    "#         ## Method2, this might be faster than Method1\n",
    "#         temp_shared = np.multiply(rData[r,:],auxData[aux,:]) > 0\n",
    "#         indOf1 = get_indexes(1,temp_shared)\n",
    "#         print(temp_shared)\n",
    "#         print(indOf1)\n",
    "\n",
    "#         #indOf1= get_indexes(1, np.logical_and(temp_aux_vector,temp_r_vector)  ) # will switch to this line after debugging is finished\n",
    "\n",
    "#         #eccentritiy = sum(exp(( rData(indOf1(1:2:len(indOf1)-1))-auxData(indOf1(1:2:len(indOf1)-1)) )/p0) + exp(( rData(indOf1(2:2:len(indOf1)))-auxData(2:2:len(indOf1) )/d0)\n",
    "#         #if eccentritiy > thetaAsThreshold\n",
    "#             # we know this aux!"
   ]
  }
 ],
 "metadata": {
  "kernelspec": {
   "display_name": "Python 3",
   "language": "python",
   "name": "python3"
  },
  "language_info": {
   "codemirror_mode": {
    "name": "ipython",
    "version": 3
   },
   "file_extension": ".py",
   "mimetype": "text/x-python",
   "name": "python",
   "nbconvert_exporter": "python",
   "pygments_lexer": "ipython3",
   "version": "3.6.4"
  }
 },
 "nbformat": 4,
 "nbformat_minor": 2
}
