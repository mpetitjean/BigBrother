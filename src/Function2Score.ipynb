{
 "cells": [
  {
   "cell_type": "code",
   "execution_count": null,
   "metadata": {},
   "outputs": [],
   "source": [
    "#from collections import defaultdict\n",
    "#import array\n",
    "#import csv\n",
    "import numpy as np\n",
    "#from scipy.sparse import csr_matrix\n",
    "import matplotlib.pyplot as plt\n",
    "#import itertools\n",
    "import pandas as pd"
   ]
  },
  {
   "cell_type": "code",
   "execution_count": null,
   "metadata": {},
   "outputs": [],
   "source": [
    "dbb = pd.read_csv(\"time_fixed_DB.csv\", encoding=\"UTF-8\",sep=\";\")\n",
    "dff= pd.read_csv(\"time_fixed_DF.csv\", encoding=\"UTF-8\",sep=\";\")"
   ]
  },
  {
   "cell_type": "code",
   "execution_count": null,
   "metadata": {},
   "outputs": [],
   "source": [
    "db = dbb\n",
    "df = dff.loc[(dff[\"userId\"] > 100) & (dff[\"userId\"] < 200)].copy()"
   ]
  },
  {
   "cell_type": "code",
   "execution_count": null,
   "metadata": {},
   "outputs": [],
   "source": [
    "db.rename(columns={\"userId\":\"uM\"},inplace=1)\n",
    "df.rename(columns={\"userId\":\"uF\"},inplace=1)\n",
    "display(db.head())\n",
    "display(df.head())"
   ]
  },
  {
   "cell_type": "code",
   "execution_count": null,
   "metadata": {},
   "outputs": [],
   "source": [
    "weight = 1/np.log10(dff.loc[:,\"movieId\"].value_counts())\n",
    "#del dff, dbb "
   ]
  },
  {
   "cell_type": "code",
   "execution_count": null,
   "metadata": {},
   "outputs": [],
   "source": [
    "db.set_index([\"movieId\"],inplace=True)\n",
    "df.set_index([\"movieId\"],inplace=True)"
   ]
  },
  {
   "cell_type": "code",
   "execution_count": null,
   "metadata": {},
   "outputs": [],
   "source": [
    "com_movies = df.index.unique().intersection(db.index.unique()) #Ordering, comment if working on all datasets\n",
    "db = db.loc[com_movies,:]\n",
    "df = df.loc[com_movies,:]\n",
    "res = df.subtract(db,fill_value=0).astype(np.int64)\n",
    "res = np.abs(res)"
   ]
  },
  {
   "cell_type": "code",
   "execution_count": null,
   "metadata": {},
   "outputs": [],
   "source": [
    "result = weight.loc[com_movies]*(np.exp(-res.loc[:,'rating']/1.5) + np.exp(-res.loc[:,'timestamp']/30))"
   ]
  },
  {
   "cell_type": "code",
   "execution_count": null,
   "metadata": {},
   "outputs": [],
   "source": [
    "res.loc[:,\"score\"] = result\n",
    "res.drop([\"rating\", \"timestamp\"],axis=1,inplace=True)\n",
    "res.set_index(['uF','uM'],inplace=True)\n",
    "display(res.head())"
   ]
  },
  {
   "cell_type": "code",
   "execution_count": null,
   "metadata": {},
   "outputs": [],
   "source": [
    "R = res.groupby(level=[0,1]).sum()"
   ]
  },
  {
   "cell_type": "code",
   "execution_count": null,
   "metadata": {},
   "outputs": [],
   "source": [
    "display(R.head())\n",
    "display(R.shape)"
   ]
  },
  {
   "cell_type": "code",
   "execution_count": null,
   "metadata": {},
   "outputs": [],
   "source": [
    "values = R.index.levels[0]\n",
    "# print(R.head)\n",
    "#x = range(1,101)\n",
    "\n",
    "#print(len(R))\n",
    "#weight = df[\"movieId\"].value_counts()\n",
    "#print(com_movieId)\n",
    "#tmp1 = tmp1.set_index(['movieId'])\n",
    "#print(tmp1  tmp1.loc[tmp1.index.isin(com_movieId)])\n",
    "#print(tmp1.loc[tmp1[\"movieId\"].isin(com_movieId)])\n",
    "#print(tmp2.loc[tmp2[\"movieId\"].isin(com_movieId)])\n",
    "#print(tmp1.loc[tmp1[\"movieId\"].isin(com_movieId),\"rating\"])\n",
    "#print(tmp1.loc[tmp1[\"movieId\"].isin(com_movieId),\"rating\"] + tmp2.loc[tmp2[\"movieId\"].isin(com_movieId),\"rating\"])\n",
    "#R[59,1] 25 8 97\n",
    "for elem in values:\n",
    "    tempUser = R.loc[elem]\n",
    "    if elem == 164:\n",
    "        plt.scatter(range(len(tempUser)),tempUser[\"score\"])\n",
    "        plt.show()\n",
    "    tempScore = np.array(tempUser[\"score\"])\n",
    "    stdev = np.std(tempScore)\n",
    "    best1 = np.max(tempScore)\n",
    "    idx1 = np.argmax(tempScore)\n",
    "    tempScore = np.delete(tempScore, idx1)\n",
    "    # print(tempUser)\n",
    "    best2 = np.max(tempScore)\n",
    "    ecc = (best1-best2)/stdev\n",
    "    print(\"User ID is\", elem)\n",
    "    if (ecc >= 1.5):\n",
    "        print(\"Match with an eccentricity of\", ecc)\n",
    "    else:\n",
    "        print(\"No match :(\", ecc)\n",
    "    print(\"\\n\")\n",
    "    \n"
   ]
  }
 ],
 "metadata": {
  "kernelspec": {
   "display_name": "Python 3",
   "language": "python",
   "name": "python3"
  },
  "language_info": {
   "codemirror_mode": {
    "name": "ipython",
    "version": 3
   },
   "file_extension": ".py",
   "mimetype": "text/x-python",
   "name": "python",
   "nbconvert_exporter": "python",
   "pygments_lexer": "ipython3"
  }
 },
 "nbformat": 4,
 "nbformat_minor": 2
}
