{
 "cells": [
  {
   "cell_type": "code",
   "execution_count": null,
   "metadata": {},
   "outputs": [],
   "source": [
    "#from collections import defaultdict\n",
    "#import array\n",
    "#import csv\n",
    "import numpy as np\n",
    "#from scipy.sparse import csr_matrix\n",
    "#import itertools\n",
    "import pandas as pd"
   ]
  },
  {
   "cell_type": "code",
   "execution_count": null,
   "metadata": {},
   "outputs": [],
   "source": [
    "db = pd.read_csv(\"time_fixed_DB.csv\", encoding=\"UTF-8\",sep=\";\")\n",
    "df = pd.read_csv(\"time_fixed_DF.csv\", encoding=\"UTF-8\",sep=\";\")"
   ]
  },
  {
   "cell_type": "code",
   "execution_count": null,
   "metadata": {},
   "outputs": [],
   "source": [
    "db = db.loc[db.loc[:,\"userId\"] < 100]\n",
    "df = df.loc[df.loc[:,\"userId\"] < 100]"
   ]
  },
  {
   "cell_type": "code",
   "execution_count": null,
   "metadata": {},
   "outputs": [],
   "source": [
    "print(df.shape)\n",
    "print(db.shape)"
   ]
  },
  {
   "cell_type": "code",
   "execution_count": null,
   "metadata": {},
   "outputs": [],
   "source": [
    "R = {}\n",
    "weight = 1/np.log10(df.loc[:,\"movieId\"].value_counts())\n",
    "for NF_user in df.loc[:,\"userId\"].unique():\n",
    "    tmp1 = df.loc[df.loc[:,\"userId\"] == NF_user].set_index([\"movieId\"])\n",
    "    for ML_user in db.loc[:,\"userId\"].unique():\n",
    "        tmp2 = db.loc[db.loc[:,\"userId\"] == ML_user].set_index([\"movieId\"])\n",
    "        #com_movieId = pd.Series(list(set(tmp1.loc[:,\"movieId\"]).intersection(set(tmp2.loc[:,\"movieId\"]))))\n",
    "        com_movieId = tmp1.index.intersection(tmp2.index)\n",
    "        R[NF_user, ML_user] = sum(weight.loc[com_movieId] *\\\n",
    "        (np.exp(-np.abs(tmp1.loc[com_movieId, \"rating\"] - tmp2.loc[com_movieId, \"rating\"])/1.5) + \\\n",
    "        np.exp(-np.abs(tmp1.loc[com_movieId, \"timestamp\"] - tmp2.loc[com_movieId, \"timestamp\"])/30)))"
   ]
  },
  {
   "cell_type": "code",
   "execution_count": null,
   "metadata": {},
   "outputs": [],
   "source": [
    "print(R)\n",
    "#weight = df[\"movieId\"].value_counts()\n",
    "#print(com_movieId)\n",
    "#tmp1 = tmp1.set_index(['movieId'])\n",
    "#print(tmp1  tmp1.loc[tmp1.index.isin(com_movieId)])\n",
    "#print(tmp1.loc[tmp1[\"movieId\"].isin(com_movieId)])\n",
    "#print(tmp2.loc[tmp2[\"movieId\"].isin(com_movieId)])\n",
    "#print(tmp1.loc[tmp1[\"movieId\"].isin(com_movieId),\"rating\"])\n",
    "#print(tmp1.loc[tmp1[\"movieId\"].isin(com_movieId),\"rating\"] + tmp2.loc[tmp2[\"movieId\"].isin(com_movieId),\"rating\"])"
   ]
  },
  {
   "cell_type": "code",
   "execution_count": null,
   "metadata": {},
   "outputs": [],
   "source": [
    "# x = [5,1,7,0,3,4,5,3,2,6,7,3,6]\n",
    "get_indexes = lambda x, xs: [i for (y, i) in zip(xs, range(len(xs))) if x == y]\n",
    "print(get_indexes(7,x))\n",
    "stupidMatrix = [ [0,1,2], [3,3,0], [0,0,1]];\n",
    "stupidMatrix2 = [ [0,2,0], [1,1,1], [1,0,5]];\n",
    "print(stupidMatrix)\n",
    "print(stupidMatrix2)\n"
   ]
  },
  {
   "cell_type": "code",
   "execution_count": null,
   "metadata": {},
   "outputs": [],
   "source": [
    "get_indexes = lambda x, xs: [i for (y, i) in zip(xs, range(len(xs))) if x == y]\n",
    "\n",
    "p0=1.5\n",
    "d0=30 # empirical values\n",
    "auxData = np.array(stupidMatrix) #auxData will be loaded\n",
    "rData = np.array(stupidMatrix2) #rData will be loaded\n",
    "rMax=3 # load a number here from rData\n",
    "auxMax=3 # load a number here from auxData\n",
    "\n",
    "for r in range(rMax): # user from netflix\n",
    "    for aux in range(auxMax): # user from movieLens\n",
    "        ## Method1\n",
    "#         temp_r_vector = rData[r,:] > 0\n",
    "#         temp_aux_vector = auxData[aux,:] > 0\n",
    "#         temp_shared = np.logical_and(temp_aux_vector,temp_r_vector) \n",
    "#         print(temp_shared)\n",
    "#         indOf1 = get_indexes(1,temp_shared)\n",
    "#         print(indOf1)\n",
    "        \n",
    "        ## Method2, this might be faster than Method1\n",
    "        temp_shared = np.multiply(rData[r,:],auxData[aux,:]) > 0\n",
    "        indOf1 = get_indexes(1,temp_shared)\n",
    "        print(temp_shared)\n",
    "        print(indOf1)\n",
    "\n",
    "        #indOf1= get_indexes(1, np.logical_and(temp_aux_vector,temp_r_vector)  ) # will switch to this line after debugging is finished\n",
    "\n",
    "        #eccentritiy = sum(exp(( rData(indOf1(1:2:len(indOf1)-1))-auxData(indOf1(1:2:len(indOf1)-1)) )/p0) + exp(( rData(indOf1(2:2:len(indOf1)))-auxData(2:2:len(indOf1) )/d0)\n",
    "        #if eccentritiy > thetaAsThreshold\n",
    "            # we know this aux!"
   ]
  }
 ],
 "metadata": {
  "kernelspec": {
   "display_name": "Python 3",
   "language": "python",
   "name": "python3"
  },
  "language_info": {
   "codemirror_mode": {
    "name": "ipython",
    "version": 3
   },
   "file_extension": ".py",
   "mimetype": "text/x-python",
   "name": "python",
   "nbconvert_exporter": "python",
   "pygments_lexer": "ipython3"
  }
 },
 "nbformat": 4,
 "nbformat_minor": 2
}
