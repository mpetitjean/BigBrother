{
 "cells": [
  {
   "cell_type": "code",
   "execution_count": 1,
   "metadata": {},
   "outputs": [],
   "source": [
    "from collections import defaultdict\n",
    "import array\n",
    "import csv\n",
    "import numpy as np\n",
    "from scipy.sparse import csr_matrix\n",
    "import itertools\n",
    "import pandas as pdx"
   ]
  },
  {
   "cell_type": "code",
   "execution_count": 34,
   "metadata": {},
   "outputs": [
    {
     "name": "stdout",
     "output_type": "stream",
     "text": [
      "[2, 10]\n",
      "[[0, 1, 2], [3, 3, 0], [0, 0, 1]]\n",
      "[[0, 2, 0], [1, 1, 1], [1, 0, 5]]\n"
     ]
    }
   ],
   "source": [
    "# x = [5,1,7,0,3,4,5,3,2,6,7,3,6]\n",
    "get_indexes = lambda x, xs: [i for (y, i) in zip(xs, range(len(xs))) if x == y]\n",
    "print(get_indexes(7,x))\n",
    "stupidMatrix = [ [0,1,2], [3,3,0], [0,0,1]];\n",
    "stupidMatrix2 = [ [0,2,0], [1,1,1], [1,0,5]];\n",
    "print(stupidMatrix)\n",
    "print(stupidMatrix2)\n"
   ]
  },
  {
   "cell_type": "code",
   "execution_count": 40,
   "metadata": {},
   "outputs": [
    {
     "name": "stdout",
     "output_type": "stream",
     "text": [
      "[False  True False]\n",
      "[1]\n",
      "[False  True False]\n",
      "[1]\n",
      "[False False False]\n",
      "[]\n",
      "[False  True  True]\n",
      "[1, 2]\n",
      "[ True  True False]\n",
      "[0, 1]\n",
      "[False False  True]\n",
      "[2]\n",
      "[False False  True]\n",
      "[2]\n",
      "[ True False False]\n",
      "[0]\n",
      "[False False  True]\n",
      "[2]\n"
     ]
    }
   ],
   "source": [
    "get_indexes = lambda x, xs: [i for (y, i) in zip(xs, range(len(xs))) if x == y]\n",
    "\n",
    "p0=1.5\n",
    "d0=30 # empirical values\n",
    "auxData = np.array(stupidMatrix) #auxData will be loaded\n",
    "rData = np.array(stupidMatrix2) #rData will be loaded\n",
    "rMax=3 # load a number here from rData\n",
    "auxMax=3 # load a number here from auxData\n",
    "\n",
    "for r in range(rMax): # user from netflix\n",
    "    for aux in range(auxMax): # user from movieLens\n",
    "        ## Method1\n",
    "#         temp_r_vector = rData[r,:] > 0\n",
    "#         temp_aux_vector = auxData[aux,:] > 0\n",
    "#         temp_shared = np.logical_and(temp_aux_vector,temp_r_vector) \n",
    "#         print(temp_shared)\n",
    "#         indOf1 = get_indexes(1,temp_shared)\n",
    "#         print(indOf1)\n",
    "        \n",
    "        ## Method2, this might be faster than Method1\n",
    "        temp_shared = np.multiply(rData[r,:],auxData[aux,:]) > 0\n",
    "        indOf1 = get_indexes(1,temp_shared)\n",
    "        print(temp_shared)\n",
    "        print(indOf1)\n",
    "\n",
    "        #indOf1= get_indexes(1, np.logical_and(temp_aux_vector,temp_r_vector)  ) # will switch to this line after debugging is finished\n",
    "\n",
    "        #eccentritiy = sum(exp(( rData(indOf1(1:2:len(indOf1)-1))-auxData(indOf1(1:2:len(indOf1)-1)) )/p0) + exp(( rData(indOf1(2:2:len(indOf1)))-auxData(2:2:len(indOf1) )/d0)\n",
    "        #if eccentritiy > thetaAsThreshold\n",
    "            # we know this aux!"
   ]
  }
 ],
 "metadata": {
  "kernelspec": {
   "display_name": "Python 3",
   "language": "python",
   "name": "python3"
  },
  "language_info": {
   "codemirror_mode": {
    "name": "ipython",
    "version": 3
   },
   "file_extension": ".py",
   "mimetype": "text/x-python",
   "name": "python",
   "nbconvert_exporter": "python",
   "pygments_lexer": "ipython3",
   "version": "3.6.4"
  }
 },
 "nbformat": 4,
 "nbformat_minor": 2
}
