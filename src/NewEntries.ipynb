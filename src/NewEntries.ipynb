{
 "cells": [
  {
   "cell_type": "code",
   "execution_count": null,
   "metadata": {},
   "outputs": [],
   "source": [
    "#from collections import defaultdict\n",
    "#import array\n",
    "#import csv\n",
    "import numpy as np\n",
    "#from scipy.sparse import csr_matrix\n",
    "import matplotlib.pyplot as plt\n",
    "#import itertools\n",
    "import pandas as pd\n",
    "from random import sample, randint"
   ]
  },
  {
   "cell_type": "code",
   "execution_count": null,
   "metadata": {},
   "outputs": [],
   "source": [
    "dbb = pd.read_csv(\"time_fixed_DB.csv\", encoding=\"UTF-8\",sep=\";\")\n",
    "dff= pd.read_csv(\"time_fixed_DF.csv\", encoding=\"UTF-8\",sep=\";\")\n",
    "weight = 1/np.log10(dff.loc[:,\"movieId\"].value_counts())"
   ]
  },
  {
   "cell_type": "code",
   "execution_count": null,
   "metadata": {},
   "outputs": [],
   "source": [
    "db = dbb.copy()\n",
    "nb_movies = 30\n",
    "iteration = 100\n",
    "moviessss = list(db.loc[:,\"movieId\"].unique())\n",
    "\n",
    "resultt = {}\n",
    "for nb_movies in range(1,31):\n",
    "    sumecc = 0\n",
    "    new_NF_userId = [2649430 for i in range(nb_movies)]\n",
    "    new_ML_userId = [138494 for i in range(nb_movies)]\n",
    "    for i in range(iteration):\n",
    "        db = dbb.copy()\n",
    "        selected_movies = sample(moviessss,nb_movies)\n",
    "        new_rates = [randint(1,5) for i in range(nb_movies)]\n",
    "        new_timestamp = [randint(0,5000) for i in range(nb_movies)]\n",
    "        db = db.append(pd.DataFrame({'userId': new_ML_userId,'movieId':selected_movies,'rating':new_rates,\"timestamp\":new_timestamp}),ignore_index=True)\n",
    "        df = pd.DataFrame({'userId': new_NF_userId,'movieId':selected_movies,'rating':new_rates,\"timestamp\":new_timestamp})\n",
    "        db.rename(columns={\"userId\":\"uM\"},inplace=1)\n",
    "        df.rename(columns={\"userId\":\"uF\"},inplace=1)\n",
    "        db.set_index([\"movieId\"],inplace=True)\n",
    "        df.set_index([\"movieId\"],inplace=True)\n",
    "        com_movies = df.index.unique().intersection(db.index.unique()) #Ordering, comment if working on all datasets\n",
    "        db = db.loc[com_movies,:]\n",
    "        df = df.loc[com_movies,:]\n",
    "        res = df.subtract(db,fill_value=0).astype(np.int64)\n",
    "        res = np.abs(res)\n",
    "        result = weight.loc[com_movies]*(np.exp(-res.loc[:,'rating']/1.5) + np.exp(-res.loc[:,'timestamp']/30))\n",
    "        res.loc[:,\"score\"] = result\n",
    "        res.drop([\"rating\", \"timestamp\"],axis=1,inplace=True)\n",
    "        res.set_index(['uF','uM'],inplace=True)\n",
    "        R = res.groupby(level=[0,1]).sum()\n",
    "        values = R.index.levels[0]\n",
    "        for elem in values:\n",
    "            tempUser = R.loc[elem]\n",
    "            tempScore = np.array(tempUser[\"score\"])\n",
    "            stdev = np.std(tempScore)\n",
    "            best1 = np.max(tempScore)\n",
    "            idx1 = np.argmax(tempScore)\n",
    "            tempScore = np.delete(tempScore, idx1)\n",
    "            best2 = np.max(tempScore)\n",
    "            ecc = (best1-best2)/stdev\n",
    "            sumecc += ecc\n",
    "    resultt[nb_movies] = sumecc/iteration"
   ]
  },
  {
   "cell_type": "code",
   "execution_count": null,
   "metadata": {},
   "outputs": [],
   "source": [
    "db = dbb.copy()\n",
    "nb_movies = 30\n",
    "iteration = 100\n",
    "moviessss = list(db.loc[:,\"movieId\"].unique())\n",
    "resultt = []\n",
    "new_NF_userId = [2649430 for i in range(nb_movies)]\n",
    "new_ML_userId = [138494 for i in range(nb_movies)]\n",
    "for noise in range(1,11):\n",
    "    sumecc = 0\n",
    "    for i in range(iteration):\n",
    "        db = dbb.copy()\n",
    "        selected_movies = sample(moviessss,nb_movies)\n",
    "        new_rates = [randint(1,5) for i in range(nb_movies)]\n",
    "        new_ratesNF = new_rates +  [randint(-noise,noise) for i in range(nb_movies)]/2\n",
    "        new_ratesNF[new_ratesNF > 5] = 5\n",
    "        new_ratesNF[new_ratesNF < 1] = 1\n",
    "        new_timestamp = [randint(0,5000) for i in range(nb_movies)]\n",
    "        db = db.append(pd.DataFrame({'userId': new_ML_userId,'movieId':selected_movies,'rating':new_ratesNF,\"timestamp\":new_timestamp}),ignore_index=True)\n",
    "        df = pd.DataFrame({'userId': new_NF_userId,'movieId':selected_movies,'rating':new_rates,\"timestamp\":new_timestamp})\n",
    "        db.rename(columns={\"userId\":\"uM\"},inplace=1)\n",
    "        df.rename(columns={\"userId\":\"uF\"},inplace=1)\n",
    "        db.set_index([\"movieId\"],inplace=True)\n",
    "        df.set_index([\"movieId\"],inplace=True)\n",
    "        com_movies = df.index.unique().intersection(db.index.unique()) #Ordering, comment if working on all datasets\n",
    "        db = db.loc[com_movies,:]\n",
    "        df = df.loc[com_movies,:]\n",
    "        res = df.subtract(db,fill_value=0).astype(np.int64)\n",
    "        res = np.abs(res)\n",
    "        result = weight.loc[com_movies]*(np.exp(-res.loc[:,'rating']/1.5) + np.exp(-res.loc[:,'timestamp']/30))\n",
    "        res.loc[:,\"score\"] = result\n",
    "        res.drop([\"rating\", \"timestamp\"],axis=1,inplace=True)\n",
    "        res.set_index(['uF','uM'],inplace=True)\n",
    "        R = res.groupby(level=[0,1]).sum()\n",
    "        values = R.index.levels[0]\n",
    "        for elem in values:\n",
    "            tempUser = R.loc[elem]\n",
    "            tempScore = np.array(tempUser[\"score\"])\n",
    "            stdev = np.std(tempScore)\n",
    "            best1 = np.max(tempScore)\n",
    "            idx1 = np.argmax(tempScore)\n",
    "            tempScore = np.delete(tempScore, idx1)\n",
    "            best2 = np.max(tempScore)\n",
    "            ecc = (best1-best2)/stdev\n",
    "            sumecc += ecc\n",
    "    resultt.append(sumecc/iteration)"
   ]
  },
  {
   "cell_type": "code",
   "execution_count": null,
   "metadata": {},
   "outputs": [],
   "source": [
    "import matplotlib.pyplot as plt\n",
    "a = np.zeros((31,1))\n",
    "for key in resultt:\n",
    "    a[key] = resultt[key]\n",
    "display(a)\n",
    "plt.plot(a)\n",
    "plt.show()"
   ]
  },
  {
   "cell_type": "code",
   "execution_count": null,
   "metadata": {},
   "outputs": [],
   "source": [
    "plt.plot(resultt)\n",
    "plt.show()\n",
    "display(dbb[\"movieId\"].unique().shape)\n",
    "display(weight.shape)"
   ]
  },
  {
   "cell_type": "code",
   "execution_count": null,
   "metadata": {},
   "outputs": [],
   "source": [
    "import csv\n",
    "with open('nb_movies.csv', 'w', newline='') as csvfile:\n",
    "    spamwriter = csv.writer(csvfile, delimiter=' ',\n",
    "                            quotechar='|', quoting=csv.QUOTE_MINIMAL)\n",
    "    spamwriter.writerows(a)"
   ]
  },
  {
   "cell_type": "code",
   "execution_count": null,
   "metadata": {},
   "outputs": [],
   "source": [
    "display(df.head())\n",
    "display(db.loc[db['uM']==138494].head())"
   ]
  }
 ],
 "metadata": {
  "kernelspec": {
   "display_name": "Python 3",
   "language": "python",
   "name": "python3"
  },
  "language_info": {
   "codemirror_mode": {
    "name": "ipython",
    "version": 3
   },
   "file_extension": ".py",
   "mimetype": "text/x-python",
   "name": "python",
   "nbconvert_exporter": "python",
   "pygments_lexer": "ipython3"
  }
 },
 "nbformat": 4,
 "nbformat_minor": 2
}
