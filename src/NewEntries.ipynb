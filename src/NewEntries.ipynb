{
 "cells": [
  {
   "cell_type": "markdown",
   "metadata": {},
   "source": [
    "## Dummy entries\n",
    "\n",
    "Run the scoring function on dummy entries with varying number of common movies, rating noise and timestamp noise."
   ]
  },
  {
   "cell_type": "code",
   "execution_count": null,
   "metadata": {},
   "outputs": [],
   "source": [
    "import numpy as np\n",
    "import matplotlib.pyplot as plt\n",
    "import pandas as pd\n",
    "from random import sample, randint"
   ]
  },
  {
   "cell_type": "code",
   "execution_count": null,
   "metadata": {},
   "outputs": [],
   "source": [
    "dbb = pd.read_csv(\"time_fixed_DB.csv\", encoding=\"UTF-8\",sep=\";\") # import MovieLens dataset\n",
    "\n",
    "dbb.rename(columns={\"userId\":\"uM\"},inplace=1)\n",
    "dbb.set_index([\"movieId\"],inplace=True)\n",
    "\n",
    "list_movies = list(dbb.index.unique())\n",
    "\n",
    "dff= pd.read_csv(\"time_fixed_DF.csv\", encoding=\"UTF-8\",sep=\";\") # import Netflix dataset to compute weight\n",
    "\n",
    "weight = 1/np.log10(dff.loc[:,\"movieId\"].value_counts())\n",
    "\n",
    "del dff # RAM plz"
   ]
  },
  {
   "cell_type": "code",
   "execution_count": null,
   "metadata": {},
   "outputs": [],
   "source": [
    "def single_computeScore(db, df, weigth, r0=1.5, d0=30, com_movies=None):\n",
    "\n",
    "        if com_movies == None:\n",
    "            com_movies = df.index.unique().intersection(db.index.unique()) # compute movies in common\n",
    "        \n",
    "        # ordering\n",
    "        db = db.loc[com_movies,:]\n",
    "        df = df.loc[com_movies,:]\n",
    "        \n",
    "        # compute score\n",
    "        tmp = np.abs(df.subtract(db,fill_value=0).astype(np.int64))\n",
    "        tmp.loc[:,\"score\"] = weight.loc[com_movies]*(np.exp(-tmp.loc[:,'rating']/r0) + np.exp(-tmp.loc[:,'timestamp']/d0))\n",
    "        \n",
    "        tmp.drop([\"rating\", \"timestamp\"],axis=1,inplace=True) # RAM\n",
    "        \n",
    "        tmp.set_index(['uF','uM'],inplace=True) # better representation\n",
    "        \n",
    "        R = tmp.loc[:,'score'].groupby(level=[0,1]).sum() \n",
    "        \n",
    "        # compute eccentricity\n",
    "        \n",
    "        R_std = R.std(level=0) # loneny match → NAN (will be discarded anyway)\n",
    "        \n",
    "        R_2best = R.groupby(level=0, group_keys=False).nlargest(2) # take each 2 best matches (each df_user get 2 db_user)\n",
    "        \n",
    "        R_ecc = R_2best.groupby(level=0).diff(-1).dropna()/R_std # eccentricity\n",
    "        \n",
    "        return R_ecc.sum() # we only want the sum of, not each"
   ]
  },
  {
   "cell_type": "markdown",
   "metadata": {},
   "source": [
    "## Movies"
   ]
  },
  {
   "cell_type": "code",
   "execution_count": null,
   "metadata": {},
   "outputs": [],
   "source": [
    "nb_movies = 30\n",
    "iteration = 100\n",
    "\n",
    "result_movies = [0.0] # 0 movie → no match\n",
    "for nb_movies in range(1,nb_movies+1):\n",
    "    sumecc = 0\n",
    "    \n",
    "    #create fake user\n",
    "    new_NF_userId = np.full(nb_movies,2649430)\n",
    "    new_ML_userId = np.full(nb_movies,138494)\n",
    "    \n",
    "    for i in range(iteration):\n",
    "        db = dbb.copy()\n",
    "        \n",
    "        selected_movies = sample(list_movies,nb_movies) # take random list of movies\n",
    "        \n",
    "        # gen fake user's random attributes\n",
    "        new_rates = np.random.randint(1,6,nb_movies)\n",
    "        new_timestamp = np.random.randint(0,2649,nb_movies)\n",
    "\n",
    "        db = db.append(pd.DataFrame({'uM': new_ML_userId,'rating':new_rates,\"timestamp\":new_timestamp},index=selected_movies))\n",
    "        df = pd.DataFrame({'uF': new_NF_userId,'rating':new_rates,\"timestamp\":new_timestamp},index=selected_movies)\n",
    "\n",
    "        db = db.loc[selected_movies,:]\n",
    "        \n",
    "        sumecc += single_computeScore(db, df, weight, com_movies=selected_movies)\n",
    "\n",
    "    result_movies.append(sumecc/iteration)"
   ]
  },
  {
   "cell_type": "code",
   "execution_count": null,
   "metadata": {},
   "outputs": [],
   "source": [
    "plt.plot(result_movies)\n",
    "plt.show()"
   ]
  },
  {
   "cell_type": "markdown",
   "metadata": {},
   "source": [
    "# Noisy Rating"
   ]
  },
  {
   "cell_type": "code",
   "execution_count": null,
   "metadata": {},
   "outputs": [],
   "source": [
    "nb_movies = 30\n",
    "iteration = 100\n",
    "\n",
    "\n",
    "result_rating = []\n",
    "\n",
    "new_NF_userId = np.full(nb_movies,2649430)\n",
    "new_ML_userId = np.full(nb_movies,138494)\n",
    "\n",
    "for noise in range(1,11):\n",
    "    sumecc = 0\n",
    "    for i in range(iteration):\n",
    "        db = dbb.copy()\n",
    "        \n",
    "        selected_movies = sample(list_movies,nb_movies)\n",
    "        \n",
    "        new_rates = np.random.randint(1,6,nb_movies)\n",
    "        new_ratesNF = new_rates +  np.random.randint(-noise,noise+1,nb_movies)/2\n",
    "        new_ratesNF[new_ratesNF > 5] = 5\n",
    "        new_ratesNF[new_ratesNF < 1] = 1\n",
    "        new_timestamp = np.random.randint(0,2649,nb_movies)\n",
    "        \n",
    "        db = db.append(pd.DataFrame({'uM': new_ML_userId,'rating':new_ratesNF,\"timestamp\":new_timestamp},index=selected_movies))\n",
    "        df = pd.DataFrame({'uF': new_NF_userId,'rating':new_rates,\"timestamp\":new_timestamp},index=selected_movies)\n",
    "        \n",
    "        db = db.loc[selected_movies,:]\n",
    "        \n",
    "        sumecc += single_computeScore(db, df, weight, com_movies=selected_movies)\n",
    "        \n",
    "    result_rating.append(sumecc/iteration)"
   ]
  },
  {
   "cell_type": "code",
   "execution_count": null,
   "metadata": {},
   "outputs": [],
   "source": [
    "plt.plot(result_rating)\n",
    "plt.show()"
   ]
  },
  {
   "cell_type": "markdown",
   "metadata": {},
   "source": [
    "# Noisy Timestamp"
   ]
  },
  {
   "cell_type": "code",
   "execution_count": null,
   "metadata": {},
   "outputs": [],
   "source": [
    "nb_movies = 30\n",
    "iteration = 100\n",
    "\n",
    "result_timestamp = []\n",
    "\n",
    "new_NF_userId = np.full(nb_movies,2649430)\n",
    "new_ML_userId = np.full(nb_movies,138494)\n",
    "\n",
    "for noise in [3,7,14,21,31,45,60,90]:\n",
    "    sumecc = 0\n",
    "    for i in range(iteration):\n",
    "        db = dbb.copy()\n",
    "        \n",
    "        selected_movies = sample(list_movies,nb_movies)\n",
    "        \n",
    "        new_rates = np.random.randint(1,6,nb_movies)\n",
    "        new_timestamp = np.random.randint(0,2649,nb_movies)\n",
    "        new_timestampNF = new_timestamp +  np.random.randint(-noise,noise+1,nb_movies)\n",
    "        new_timestampNF[new_timestampNF > 2649] = 2649\n",
    "        new_timestampNF[new_timestampNF < 0] = 0\n",
    "        \n",
    "        db = db.append(pd.DataFrame({'uM': new_ML_userId,'rating':new_rates,\"timestamp\":new_timestampNF},index=selected_movies))\n",
    "        df = pd.DataFrame({'uF': new_NF_userId,'rating':new_rates,\"timestamp\":new_timestamp},index=selected_movies)\n",
    "\n",
    "        db = db.loc[selected_movies,:]\n",
    "        \n",
    "        sumecc += single_computeScore(db, df, weight, com_movies=selected_movies)\n",
    "        \n",
    "    result_timestamp.append(sumecc/iteration)"
   ]
  },
  {
   "cell_type": "code",
   "execution_count": null,
   "metadata": {},
   "outputs": [],
   "source": [
    "plt.plot(result_timestamp)\n",
    "plt.show()"
   ]
  },
  {
   "cell_type": "code",
   "execution_count": null,
   "metadata": {},
   "outputs": [],
   "source": [
    "import csv\n",
    "_input = [('nb_movies.csv',result_movies), ('noisy_rating.csv',result_rating), ('noisy_day.csv',result_timestamp)]\n",
    "for name, data in _input:\n",
    "    np.savetxt(name, data)"
   ]
  }
 ],
 "metadata": {
  "kernelspec": {
   "display_name": "Python 3",
   "language": "python",
   "name": "python3"
  },
  "language_info": {
   "codemirror_mode": {
    "name": "ipython",
    "version": 3
   },
   "file_extension": ".py",
   "mimetype": "text/x-python",
   "name": "python",
   "nbconvert_exporter": "python",
   "pygments_lexer": "ipython3"
  }
 },
 "nbformat": 4,
 "nbformat_minor": 2
}
