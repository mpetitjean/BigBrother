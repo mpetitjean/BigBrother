{
 "cells": [
  {
   "cell_type": "markdown",
   "metadata": {},
   "source": [
    "## Netflix dataset preprocessing\n",
    "\n",
    "The data is spread across 17,770 files (one per movie). It need to be reshaped to a form similar to the MovieLens one, which is more convenient."
   ]
  },
  {
   "cell_type": "code",
   "execution_count": null,
   "metadata": {},
   "outputs": [],
   "source": [
    "import resource\n",
    "import pandas as pd"
   ]
  },
  {
   "cell_type": "code",
   "execution_count": null,
   "metadata": {},
   "outputs": [],
   "source": [
    "path = \"data/Netflix/\"\n",
    "\n",
    "# Limit RAM usage to avoid swapping (UNIX only)\n",
    "soft, hard = resource.getrlimit(resource.RLIMIT_AS)\n",
    "resource.setrlimit(resource.RLIMIT_AS, (5000000000, hard))"
   ]
  },
  {
   "cell_type": "code",
   "execution_count": null,
   "metadata": {},
   "outputs": [],
   "source": [
    "from collections import defaultdict\n",
    "import array\n",
    "import csv\n",
    "import numpy as np\n",
    "from scipy.sparse import csr_matrix\n",
    "import itertools\n",
    "\n",
    "data = array.array(\"l\")\n",
    "row = array.array(\"l\")\n",
    "tmp = []\n",
    "col = array.array(\"l\")\n",
    "j=1\n",
    "def cc():\n",
    "    cc.counter += 1\n",
    "    return cc.counter\n",
    "cc.counter = -1\n",
    "my_dict = defaultdict(cc)\n",
    "for i in range(1,17771):\n",
    "    with open(path + \"training_set/mv_\" + format(i,'07d')+\".txt\") as csvfile:\n",
    "        dd = [list(map(int, x)) for x in list(csv.reader(csvfile))]\n",
    "    row.extend(list(itertools.chain.from_iterable(itertools.repeat(x, 2) for x in [r.pop(0) for r in dd])))\n",
    "    data.extend(list(itertools.chain.from_iterable(dd)))\n",
    "    col.extend([i*2-2, i*2-1]*len(dd))\n",
    "row = array.array(\"l\",[my_dict[v] for v in row])"
   ]
  },
  {
   "cell_type": "code",
   "execution_count": null,
   "metadata": {},
   "outputs": [],
   "source": [
    "print(len(row))\n",
    "print(len(col))\n",
    "print(max(col))\n",
    "test = csr_matrix((data,(row, col)),shape=(480189, 17770*2))"
   ]
  },
  {
   "cell_type": "code",
   "execution_count": null,
   "metadata": {},
   "outputs": [],
   "source": [
    "from scipy.sparse import save_npz, load_npz\n",
    "#save_npz('Netflix_csr.npz', test)\n",
    "test = load_npz('Netflix_csr.npz')"
   ]
  },
  {
   "cell_type": "code",
   "execution_count": null,
   "metadata": {},
   "outputs": [],
   "source": [
    "i=1\n",
    "a = ['{}_{}'.format('rate_', str(b)) for b in range(17771)]\n",
    "b = ['{}_{}'.format('date_', str(b)) for b in range(17771)]\n",
    "y = ['id'] + [item for sublist in zip(a,b) for item in sublist]\n",
    "g = [1488844,822109,885013,30878,823519,893988,124105,1248029,1842128,2238063,1503895,2207774,2590061,2442,543865,1209119,804919,1086807,1711859,372233,1080361,1245640,558634,2165002,1181550,1227322,427928,814701,808731,662870,337541,786312,1133214,1537427,1209954,2381599,525356,1910569,2263586,2421815,1009622,1481961,401047,2179073,1434636,93986,1308744,2647871,1905581,2508819,1578279,1159695,2588432,2423091,470232,2148699,1342007,466135,2472440,1283744,1927580,716874,4326,1546549,1493697,880166,535396,494609,1961619,883478,793564,1567202,573537,1972040,1838912,411705,2244518,584542,667730,2488120,1926776,38052,1196100,314933,1792741,769643,2477242,1421006,729846,1719610,1696031,1817215,406057,636262,1245406,1834590,593225,1011918,1665054,2630337,1155747,2439493,479924,530789,765860,231001,1493615,1850615,68959,147386,624035,782308,1116080,421374,1158759,1025798,1215397,2475251,321111,2162676,2635437,2389367,485622,235553,831869,99400,684876,1871179,1107678,642036,700890,2289956,2040859,1524964,121318,317050,2287003,59052,893742,1346257,55016,30245,743633,1596531,1125499,706832,2465337,2291422,1777406,1904905,2450433,1348967,638020,2217779,194280,493009,1567167,850327,520386,320540,1188228,57961,1113230,1374216,595778,209573,2354601,2563596,835265,1819474,1447104,1100940,143274,2329565,181592,936396,1125797,2283366,514495,1772176,1877347,1287892,255443,890669,1989766,2315073,14756,907623,991423,1604238,1027056,2025883,732936,563962,799442,352635,2537543,1564395,1655178,573434,1141189,383247,1763921,1943970,322009,2333817,2095681,1149588,2354740,2421360,496087,2191781,1694083,818416,701960,2090477,1664010,2583822,369646,2234063,259799,1077982,2631796,1122383,1508526,1600207,1283117,1727869,1522799,1394012,1558286,1155602,361066,1743210,1148389,2268101,519684,767518,122197,2112162,1073367,400162,1524343,741245,2563768,1406595,1137010,60343,225765,2530404,437881,1935793,134001,2607300,1008986,94565,828410,1805202,1922925,1435717,2277395,2305014,166041,2413320,87113,722591,2291306,2010770,255383,1873429,1647618,608234,42930,1462072,685565,3321,2554942,1874547,2269844,34907,1779903,2576424,230112,508727,1603525,172264,1182185,2275470,491531,1346432,1554712,1450941,1714116,2016488,1782762,1343170,2565752,435841,2242821,638824,2256485,101597,623036,1559445,1723381,1824586,2233105,682963,2529547,504620,1682104,16272,2491785,978412,2054145,2444240,547732,811790,31913,437111,640588,2625019,2605190,915,1430587,2544219,2603381,305344,2569099,2430356,885165,2380806,1512406,1774623,2226525,2537076,2060858,498469,68033,1819146,2088415,473070,1823641,1839976,14924,1852606,453694,921487,1022254,2464081,1228324,1563530,1181170,1357013,21722,288420,1739170,2584676,2013504,1245176,269524,661344,652324,2239213,863302,758850,1884755,544833,1562707,810700,837756,155164,493945,1565175,2005193,1605780,1294335,608576,659505,1604707,2630797,402266,752642,1906145,389872,1462866,1952116,54774,1776980,1494196,253794,1569513,596728,1107588,1133763,1398076,1178171,984369,2618594,1653834,2322840,2207647,1994111,1824044,2255037,2056022,1458179,1508350,1168571,766489,1424199,2054180,448902,1547173,1751103,121073,2609436,1398626,1311231,2279000,236921,2566259,758937,2260684,1190829,136106,344753,568930,206115,2390644,2078679,1682651,386915,972136,1806515,11589,2118461,444411,691108,332401,1278488,358776,387418,872408,646098,396595,1366860,1046882,470861,1455257,1274780,379184,1273630,492291,145873,1388284,712610,1116065,660499,1918987,1357894,190418,1060658,1443203,1772839,2385774,1059319,831775,881346,1066317,13651,208920,308753,2564257,565041,1602153,173930,202811,353369,1201176,2047577,685113,1686060,151004,2126192,1981464,1862581,1255780,1962300,1515355,1001779,2093105,1123959,1876297,1364481,998236,328415,1347129,1117062,1033930,45117,1005769,712609,740495,2497991,1017324,120491,1645794,1658790,2451020,1878798,1790903,1254683,874943,121456,1140108,515436,272689,1247177,263240,2539549,2565654,334701,42921,2011399,433945,2151149,1415954,1086360,2419258,2380848,1550216,596533,287901,188613,1654508,1313126,51334,2374451,2031093,548064,946102,1790158,1403184,1535440,1426604,1815755]\n",
    "df = pd.DataFrame(0, columns=y[1:], index=g, dtype='int32')\n",
    "df[a] = df[a].astype('int8', copy=False)\n",
    "#d = pd.read_csv(path + \"training_set/mv_\" + format(i,'07d')+\".txt\", header=None,\n",
    "#                         names=['id', 'rate_' + str(i),'date'+str(i)],\n",
    "#                         dtype={'id':'int32',\"rate_\" + str(i):'int8',\"date_\" + str(i):'int32'},\n",
    "#                 na_filter=False, index_col=0, skiprows=1)\n",
    "#e = pd.concat([df,d])\n",
    "#e.head()\n",
    "df.head()"
   ]
  },
  {
   "cell_type": "code",
   "execution_count": null,
   "metadata": {},
   "outputs": [],
   "source": [
    "df = df.fillna(0)\n",
    "#df.head()\n",
    "df[a] = df[a].astype('int8')\n",
    "df[b] = df[b].astype('int32')\n",
    "df.dtypes"
   ]
  },
  {
   "cell_type": "code",
   "execution_count": null,
   "metadata": {},
   "outputs": [],
   "source": [
    "z = []\n",
    "for i in range(1,6133+1):\n",
    "    z.append(pd.read_csv(path + \"training_set/mv_\" + format(i,'07d')+\".txt\", header=None,\n",
    "                         names=[\"id\", \"rate_\" + str(i), \"date_\" + str(i)],\n",
    "                         dtype={'id':'int32',\"rate_\" + str(i):'int8',\"date_\" + str(i):'int32'}))\n",
    "df = pd.concat(z, axis=1, copy = False)\n",
    "print(df.dtypes)\n",
    "df.head()"
   ]
  },
  {
   "cell_type": "code",
   "execution_count": null,
   "metadata": {},
   "outputs": [],
   "source": [
    "len(z)"
   ]
  },
  {
   "cell_type": "code",
   "execution_count": null,
   "metadata": {},
   "outputs": [],
   "source": [
    "df.iloc[:,0::2] = df.iloc[:,0::2].astype('int8')\n",
    "df.dtypes\n",
    "df.iloc[:,0::2]"
   ]
  },
  {
   "cell_type": "code",
   "execution_count": null,
   "metadata": {},
   "outputs": [],
   "source": [
    "import csv\n",
    "d = {}\n",
    "ind = 0\n",
    "for i in range(1,10000):\n",
    "    reader = csv.reader(open(path + \"training_set/mv_\" + format(i,'07d')+\".txt\", 'r'))\n",
    "    for _id, rate, date  in reader:\n",
    "        d[_id] = ind\n",
    "        ind += 1\n",
    "        for "
   ]
  },
  {
   "cell_type": "code",
   "execution_count": null,
   "metadata": {},
   "outputs": [],
   "source": [
    "z = []\n",
    "for i in range(1,4):\n",
    "    z.append(pd.read_csv(path + \"training_set/mv_\" + format(i,'07d')+\".txt\", header=None,\n",
    "                         names=[\"id\", \"rate_\" + str(i), \"date_\" + str(i)],\n",
    "                         dtype={'id':'int32',\"rate_\" + str(i):'int8',\"date_\" + str(i):'int32'}, index_col=0, skiprows=1))\n",
    "res = pd.concat(z, axis=1, copy=False).fillna(0)\n",
    "res = res.\n",
    "print(z[2].dtypes)\n",
    "print(res.dtypes)\n",
    "#z = []\n",
    "#for i in range(2,1):\n",
    "#    z.append(pd.read_csv(path + \"training_set/mv_\" + format(i,'07d')+\".txt\", header=None, names=[\"id\", \"rate_\" + str(i), \"date_\" + str(i)], index_col=0).to_sparse())\n",
    "#res = pd.concat([res, pd.concat(z, axis=1).to_sparse()], axis=1).to_sparse()\n",
    "\n",
    "#print(res.head())\n",
    "#print(res.density)"
   ]
  },
  {
   "cell_type": "code",
   "execution_count": null,
   "metadata": {},
   "outputs": [],
   "source": [
    "z[0].merge(z[1],how='outer', on=z[0].keys)\n",
    "print(z[0].head())\n",
    "res.memory_usage(index=True).sum()\n",
    "res.dtypes\n",
    "z[0].dtypes"
   ]
  },
  {
   "cell_type": "code",
   "execution_count": null,
   "metadata": {},
   "outputs": [],
   "source": [
    "df = pd.DataFrame(data=0,index=range(480189),columns=range(17770), dtype='int8')\n",
    "#df[:][1:2:10] = df[:][1:2:10].astype('int8',copy=False)\n",
    "#for i in range(0,17770,2):\n",
    "#    df[i] = df[i].astype('int8')\n",
    "#df.loc[0,1] = 3456789\n",
    "#print(df.head())\n",
    "#print(df.dtypes)\n"
   ]
  }
 ],
 "metadata": {
  "kernelspec": {
   "display_name": "Python 3",
   "language": "python",
   "name": "python3"
  },
  "language_info": {
   "codemirror_mode": {
    "name": "ipython",
    "version": 3
   },
   "file_extension": ".py",
   "mimetype": "text/x-python",
   "name": "python",
   "nbconvert_exporter": "python",
   "pygments_lexer": "ipython3"
  }
 },
 "nbformat": 4,
 "nbformat_minor": 2
}
