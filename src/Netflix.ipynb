{
 "cells": [
  {
   "cell_type": "code",
   "execution_count": 1,
   "metadata": {},
   "outputs": [],
   "source": [
    "import pandas as pd"
   ]
  },
  {
   "cell_type": "code",
   "execution_count": null,
   "metadata": {},
   "outputs": [],
   "source": [
    "z = []\n",
    "for i in range(1,1000):\n",
    "    z.append(pd.read_csv(\"training_set/mv_\" + format(i,'07d')+\".txt\", header=None, names=[\"id\", \"rate_\" + str(i), \"date_\" + str(i)], index_col=0).to_sparse())\n",
    "res = pd.concat(z, axis=1).to_sparse()\n",
    "print(res.head())\n",
    "print(res.density)"
   ]
  }
 ],
 "metadata": {
  "kernelspec": {
   "display_name": "Python 3",
   "language": "python",
   "name": "python3"
  },
  "language_info": {
   "codemirror_mode": {
    "name": "ipython",
    "version": 3
   },
   "file_extension": ".py",
   "mimetype": "text/x-python",
   "name": "python",
   "nbconvert_exporter": "python",
   "pygments_lexer": "ipython3",
   "version": "3.6.5"
  }
 },
 "nbformat": 4,
 "nbformat_minor": 2
}
