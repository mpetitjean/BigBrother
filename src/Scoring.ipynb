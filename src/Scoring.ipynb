{
 "cells": [
  {
   "cell_type": "markdown",
   "metadata": {},
   "source": [
    "## Scoring\n",
    "\n",
    "This notebook applies the scoring on the cleaned datasets and stores matched users.\n",
    "\n",
    "Note: it was not used due to limited resources. Only subsets were taken into account, see notebook `scoring_subset`"
   ]
  },
  {
   "cell_type": "code",
   "execution_count": null,
   "metadata": {},
   "outputs": [],
   "source": [
    "import numpy as np\n",
    "import matplotlib.pyplot as plt\n",
    "import pandas as pd"
   ]
  },
  {
   "cell_type": "code",
   "execution_count": null,
   "metadata": {},
   "outputs": [],
   "source": [
    "dbb = pd.read_csv(\"time_fixed_DB.csv\", encoding=\"UTF-8\",sep=\";\")\n",
    "dff= pd.read_csv(\"time_fixed_DF.csv\", encoding=\"UTF-8\",sep=\";\")"
   ]
  },
  {
   "cell_type": "code",
   "execution_count": null,
   "metadata": {},
   "outputs": [],
   "source": [
    "db = dbb\n",
    "df = dff.loc[(dff[\"userId\"] > 100) & (dff[\"userId\"] < 200)].copy()"
   ]
  },
  {
   "cell_type": "code",
   "execution_count": null,
   "metadata": {},
   "outputs": [],
   "source": [
    "db.rename(columns={\"userId\":\"uM\"},inplace=1)\n",
    "df.rename(columns={\"userId\":\"uF\"},inplace=1)\n",
    "display(db.head())\n",
    "display(df.head())"
   ]
  },
  {
   "cell_type": "code",
   "execution_count": null,
   "metadata": {},
   "outputs": [],
   "source": [
    "weight = 1/np.log10(dff.loc[:,\"movieId\"].value_counts())\n",
    "#del dff, dbb "
   ]
  },
  {
   "cell_type": "code",
   "execution_count": null,
   "metadata": {},
   "outputs": [],
   "source": [
    "db.set_index([\"movieId\"],inplace=True)\n",
    "df.set_index([\"movieId\"],inplace=True)"
   ]
  },
  {
   "cell_type": "code",
   "execution_count": null,
   "metadata": {},
   "outputs": [],
   "source": [
    "com_movies = df.index.unique().intersection(db.index.unique()) #Ordering, comment if working on all datasets\n",
    "db = db.loc[com_movies,:]\n",
    "df = df.loc[com_movies,:]\n",
    "res = df.subtract(db,fill_value=0).astype(np.int64)\n",
    "res = np.abs(res)"
   ]
  },
  {
   "cell_type": "code",
   "execution_count": null,
   "metadata": {},
   "outputs": [],
   "source": [
    "result = weight.loc[com_movies]*(np.exp(-res.loc[:,'rating']/1.5) + np.exp(-res.loc[:,'timestamp']/30))"
   ]
  },
  {
   "cell_type": "code",
   "execution_count": null,
   "metadata": {},
   "outputs": [],
   "source": [
    "res.loc[:,\"score\"] = result\n",
    "res.drop([\"rating\", \"timestamp\"],axis=1,inplace=True)\n",
    "res.set_index(['uF','uM'],inplace=True)\n",
    "display(res.head())"
   ]
  },
  {
   "cell_type": "code",
   "execution_count": null,
   "metadata": {},
   "outputs": [],
   "source": [
    "R = res.groupby(level=[0,1]).sum()"
   ]
  },
  {
   "cell_type": "code",
   "execution_count": null,
   "metadata": {},
   "outputs": [],
   "source": [
    "display(R.head())\n",
    "display(R.shape)"
   ]
  },
  {
   "cell_type": "code",
   "execution_count": null,
   "metadata": {},
   "outputs": [],
   "source": [
    "values = R.index.levels[0]\n",
    "\n",
    "for elem in values:\n",
    "    tempUser = R.loc[elem]\n",
    "    if elem == 164:\n",
    "        plt.scatter(range(len(tempUser)),tempUser[\"score\"])\n",
    "        plt.show()\n",
    "    tempScore = np.array(tempUser[\"score\"])\n",
    "    stdev = np.std(tempScore)\n",
    "    best1 = np.max(tempScore)\n",
    "    idx1 = np.argmax(tempScore)\n",
    "    tempScore = np.delete(tempScore, idx1)\n",
    "    # print(tempUser)\n",
    "    best2 = np.max(tempScore)\n",
    "    ecc = (best1-best2)/stdev\n",
    "    print(\"User ID is\", elem)\n",
    "    if (ecc >= 1.5):\n",
    "        print(\"Match with an eccentricity of\", ecc)\n",
    "    else:\n",
    "        print(\"No match\", ecc)\n",
    "    print(\"\\n\")\n",
    "    "
   ]
  }
 ],
 "metadata": {
  "kernelspec": {
   "display_name": "Python 3",
   "language": "python",
   "name": "python3"
  },
  "language_info": {
   "codemirror_mode": {
    "name": "ipython",
    "version": 3
   },
   "file_extension": ".py",
   "mimetype": "text/x-python",
   "name": "python",
   "nbconvert_exporter": "python",
   "pygments_lexer": "ipython3",
   "version": "3.6.5"
  }
 },
 "nbformat": 4,
 "nbformat_minor": 2
}
