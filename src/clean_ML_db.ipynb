{
 "cells": [
  {
   "cell_type": "markdown",
   "metadata": {},
   "source": [
    "# MovieLens database cleaning"
   ]
  },
  {
   "cell_type": "markdown",
   "metadata": {},
   "source": [
    "## Extract needed dates\n",
    "\n",
    "According to its ReadMe, this database has records from ratings dating from between January 09, 1995 and March 31, 2015. The Netflix database only ranges from October 1998 to December 2005, so that many entries are useless.\n",
    "\n",
    "The numbers of distinct users goes from 138.493 to 52875."
   ]
  },
  {
   "cell_type": "code",
   "execution_count": 19,
   "metadata": {},
   "outputs": [],
   "source": [
    "import pandas as pd\n",
    "import numpy as np"
   ]
  },
  {
   "cell_type": "code",
   "execution_count": 20,
   "metadata": {},
   "outputs": [
    {
     "name": "stdout",
     "output_type": "stream",
     "text": [
      "(1048575, 4)\n",
      "There are 137440 reviews made before the 1st October 1998.\n",
      "There are 415433 reviews made after the 31st December 2005.\n"
     ]
    },
    {
     "data": {
      "text/html": [
       "<div>\n",
       "<style scoped>\n",
       "    .dataframe tbody tr th:only-of-type {\n",
       "        vertical-align: middle;\n",
       "    }\n",
       "\n",
       "    .dataframe tbody tr th {\n",
       "        vertical-align: top;\n",
       "    }\n",
       "\n",
       "    .dataframe thead th {\n",
       "        text-align: right;\n",
       "    }\n",
       "</style>\n",
       "<table border=\"1\" class=\"dataframe\">\n",
       "  <thead>\n",
       "    <tr style=\"text-align: right;\">\n",
       "      <th></th>\n",
       "      <th>userId</th>\n",
       "      <th>movieId</th>\n",
       "      <th>rating</th>\n",
       "      <th>timestamp</th>\n",
       "    </tr>\n",
       "  </thead>\n",
       "  <tbody>\n",
       "    <tr>\n",
       "      <th>0</th>\n",
       "      <td>1</td>\n",
       "      <td>2</td>\n",
       "      <td>3.5</td>\n",
       "      <td>1112486027</td>\n",
       "    </tr>\n",
       "    <tr>\n",
       "      <th>1</th>\n",
       "      <td>1</td>\n",
       "      <td>29</td>\n",
       "      <td>3.5</td>\n",
       "      <td>1112484676</td>\n",
       "    </tr>\n",
       "    <tr>\n",
       "      <th>2</th>\n",
       "      <td>1</td>\n",
       "      <td>32</td>\n",
       "      <td>3.5</td>\n",
       "      <td>1112484819</td>\n",
       "    </tr>\n",
       "    <tr>\n",
       "      <th>3</th>\n",
       "      <td>1</td>\n",
       "      <td>47</td>\n",
       "      <td>3.5</td>\n",
       "      <td>1112484727</td>\n",
       "    </tr>\n",
       "    <tr>\n",
       "      <th>4</th>\n",
       "      <td>1</td>\n",
       "      <td>50</td>\n",
       "      <td>3.5</td>\n",
       "      <td>1112484580</td>\n",
       "    </tr>\n",
       "  </tbody>\n",
       "</table>\n",
       "</div>"
      ],
      "text/plain": [
       "   userId  movieId  rating   timestamp\n",
       "0       1        2     3.5  1112486027\n",
       "1       1       29     3.5  1112484676\n",
       "2       1       32     3.5  1112484819\n",
       "3       1       47     3.5  1112484727\n",
       "4       1       50     3.5  1112484580"
      ]
     },
     "execution_count": 20,
     "metadata": {},
     "output_type": "execute_result"
    }
   ],
   "source": [
    "db = pd.read_csv(\"data/MovieLens/ratings.csv\", header=None, encoding=\"UTF-8\", names=[\"userId\",\"movieId\",\"rating\",\"timestamp\"])\n",
    "print(db.shape)\n",
    "a = (db[\"timestamp\"] < 907200000) \n",
    "print(\"There are\", sum(a), \"reviews made before the 1st October 1998.\")\n",
    "b = (db[\"timestamp\"] > 1135987200) \n",
    "print(\"There are\", sum(b), \"reviews made after the 31st December 2005.\")\n",
    "\n",
    "db.head()"
   ]
  },
  {
   "cell_type": "code",
   "execution_count": 21,
   "metadata": {},
   "outputs": [
    {
     "name": "stdout",
     "output_type": "stream",
     "text": [
      "(911135, 4)\n",
      "(495702, 4)\n"
     ]
    }
   ],
   "source": [
    "# Remove useless rows\n",
    "a = (db[\"timestamp\"] > 907200000) \n",
    "db = db[a]\n",
    "print(db.shape)\n",
    "b = (db[\"timestamp\"] < 1135987200) \n",
    "db = db[b]\n",
    "print(db.shape)"
   ]
  },
  {
   "cell_type": "code",
   "execution_count": 4,
   "metadata": {},
   "outputs": [
    {
     "name": "stdout",
     "output_type": "stream",
     "text": [
      "There are 2726 users left.\n"
     ]
    }
   ],
   "source": [
    "# Get number of distincts users\n",
    "print(\"There are\", len(db.userId.unique()), \"users left.\")"
   ]
  },
  {
   "cell_type": "markdown",
   "metadata": {},
   "source": [
    "## Remove not matching movies\n",
    "\n"
   ]
  },
  {
   "cell_type": "code",
   "execution_count": 5,
   "metadata": {},
   "outputs": [
    {
     "name": "stdout",
     "output_type": "stream",
     "text": [
      "17770\n",
      "27278\n"
     ]
    }
   ],
   "source": [
    "# Import movie titles\n",
    "\n",
    "import csv\n",
    "\n",
    "nf_movies = [];\n",
    "with open('data/Netflix/movie_titles.csv', encoding=\"ISO-8859-1\") as nf:\n",
    "    for col1,col2,*col3 in csv.reader(nf):\n",
    "        #s = ''.join(col3).lower().replace(\" \",\"\")\n",
    "        #s = s[:(s.find('(') if s.find('(') !=-1 else len(s))]\n",
    "        nf_movies.append((''.join(col3)+\"(\"+col2+\")\").lower().replace(\" \",\"\"))\n",
    "\n",
    "ml_movies = [];\n",
    "with open('data/MovieLens/movies.csv', encoding=\"UTF-8\") as ml:\n",
    "    for col1,col2,*col3 in csv.reader(ml):\n",
    "        s = ''.join(col2).lower().replace(\" \",\"\")\n",
    "        loc = s.find(\",the(\")\n",
    "        if loc !=-1:\n",
    "            s = \"the\" + s[:loc] + s[loc+4:]\n",
    "        else:\n",
    "            loc=s.find(\",a(\")\n",
    "            if loc != -1:\n",
    "                s = \"a\" + s[:loc] + s[loc+2:] \n",
    "            else:\n",
    "                loc=s.find(\",an(\")\n",
    "                if loc != -1:\n",
    "                    s = \"an\" + s[:loc] + s[loc+3:] \n",
    "        ml_movies.append((col1, s))\n",
    "        \n",
    "print(len(nf_movies))\n",
    "print(len(ml_movies))"
   ]
  },
  {
   "cell_type": "code",
   "execution_count": 22,
   "metadata": {},
   "outputs": [
    {
     "name": "stdout",
     "output_type": "stream",
     "text": [
      "I found 6133 matches.\n",
      "0\n"
     ]
    }
   ],
   "source": [
    "matches = {}\n",
    "#revmatches ={}\n",
    "count = 0\n",
    "for movie in range(len(nf_movies)):\n",
    "    #if any(nf_movies[movie] in q for s,q in ml_movies):\n",
    "    for label, title in ml_movies:\n",
    "        if nf_movies[movie] == title and nf_movies[movie] not in [\"pinocchio(2002)\", \"lastmanstanding(1996)\", \"emma(1996)\",\"hamlet(2000)\", \"hamlet(1990)\", \"menwithguns(1997)\"]:\n",
    "#            if label in matches.values():\n",
    "#                print(\"FUCKED BY:\", nf_movies[movie], \"and\", title, nf_movies[revmatches[label]-1])\n",
    "#                count +=1\n",
    "            matches[movie + 1 ] = label\n",
    "#            revmatches[label] = movie +1\n",
    "            break\n",
    "        #matches.setdefault((int(s) for s,q in ml_movies if nf_movies[movie] in q), movie+1)\n",
    "\n",
    "        \n",
    "print(\"I found\", len(matches), \"matches.\")\n",
    "print(count)"
   ]
  },
  {
   "cell_type": "code",
   "execution_count": 23,
   "metadata": {},
   "outputs": [],
   "source": [
    "# Remove movies\n",
    "idx2drop =[]\n",
    "for ii,jj in enumerate(db['movieId']):\n",
    "    if str(jj) not in matches.values():\n",
    "        idx2drop.append(ii)\n",
    "db.drop(db.index[idx2drop], inplace=True)\n",
    "# for key in matches:\n",
    "# db[db.movieId in matches.keys()]"
   ]
  },
  {
   "cell_type": "code",
   "execution_count": 24,
   "metadata": {},
   "outputs": [
    {
     "name": "stdout",
     "output_type": "stream",
     "text": [
      "(382108, 4)\n",
      "113594\n",
      "[2, 3, 5, 8, 9, 10, 12, 14, 16, 19, 27, 30, 31, 32, 33, 35, 43, 46, 49]\n"
     ]
    }
   ],
   "source": [
    "print(db.shape)\n",
    "print(len(idx2drop))\n",
    "print(idx2drop[1:20])"
   ]
  },
  {
   "cell_type": "code",
   "execution_count": 9,
   "metadata": {},
   "outputs": [],
   "source": [
    "z = []\n",
    "#df = pd.DataFrame(columns=[\"userId\",\"movieId\",\"rating\",\"timestamp\"])\n",
    "for i in matches:\n",
    "    #print(i)\n",
    "    tmp = pd.read_csv(\"data/Netflix/training_set/mv_\" + format(i,'07d')+\".txt\", header=None,\n",
    "                         names=[\"userId\",\"rating\",\"timestamp\"],encoding=\"ISO-8859-1\")\n",
    "    tmp[\"movieId\"] = matches[i]\n",
    "    z.append(tmp)"
   ]
  },
  {
   "cell_type": "code",
   "execution_count": 10,
   "metadata": {},
   "outputs": [],
   "source": [
    "df = pd.concat(z,copy=False)"
   ]
  },
  {
   "cell_type": "code",
   "execution_count": 11,
   "metadata": {},
   "outputs": [],
   "source": [
    "df.to_csv(\"DF.csv\",\";\")"
   ]
  },
  {
   "cell_type": "code",
   "execution_count": 25,
   "metadata": {},
   "outputs": [],
   "source": [
    "db.to_csv(\"DB.csv\",\";\")"
   ]
  }
 ],
 "metadata": {
  "kernelspec": {
   "display_name": "Python 3",
   "language": "python",
   "name": "python3"
  },
  "language_info": {
   "codemirror_mode": {
    "name": "ipython",
    "version": 3
   },
   "file_extension": ".py",
   "mimetype": "text/x-python",
   "name": "python",
   "nbconvert_exporter": "python",
   "pygments_lexer": "ipython3",
   "version": "3.6.4"
  }
 },
 "nbformat": 4,
 "nbformat_minor": 2
}
